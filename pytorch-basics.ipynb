{
 "cells": [
  {
   "cell_type": "code",
   "execution_count": 1,
   "id": "196e3dc8",
   "metadata": {
    "_cell_guid": "b1076dfc-b9ad-4769-8c92-a6c4dae69d19",
    "_uuid": "8f2839f25d086af736a60e9eeb907d3b93b6e0e5",
    "execution": {
     "iopub.execute_input": "2022-08-08T12:18:37.408062Z",
     "iopub.status.busy": "2022-08-08T12:18:37.406841Z",
     "iopub.status.idle": "2022-08-08T12:18:37.413584Z",
     "shell.execute_reply": "2022-08-08T12:18:37.412621Z"
    },
    "papermill": {
     "duration": 0.014347,
     "end_time": "2022-08-08T12:18:37.416013",
     "exception": false,
     "start_time": "2022-08-08T12:18:37.401666",
     "status": "completed"
    },
    "tags": []
   },
   "outputs": [],
   "source": [
    "# # This Python 3 environment comes with many helpful analytics libraries installed\n",
    "# # It is defined by the kaggle/python Docker image: https://github.com/kaggle/docker-python\n",
    "# # For example, here's several helpful packages to load\n",
    "\n",
    "# import numpy as np # linear algebra\n",
    "# import pandas as pd # data processing, CSV file I/O (e.g. pd.read_csv)\n",
    "\n",
    "# # Input data files are available in the read-only \"../input/\" directory\n",
    "# # For example, running this (by clicking run or pressing Shift+Enter) will list all files under the input directory\n",
    "\n",
    "# import os\n",
    "# for dirname, _, filenames in os.walk('/kaggle/input'):\n",
    "#     for filename in filenames:\n",
    "#         print(os.path.join(dirname, filename))\n",
    "\n",
    "# # You can write up to 20GB to the current directory (/kaggle/working/) that gets preserved as output when you create a version using \"Save & Run All\" \n",
    "# # You can also write temporary files to /kaggle/temp/, but they won't be saved outside of the current session"
   ]
  },
  {
   "cell_type": "code",
   "execution_count": 2,
   "id": "a77adf97",
   "metadata": {
    "execution": {
     "iopub.execute_input": "2022-08-08T12:18:37.422785Z",
     "iopub.status.busy": "2022-08-08T12:18:37.422050Z",
     "iopub.status.idle": "2022-08-08T12:18:39.580914Z",
     "shell.execute_reply": "2022-08-08T12:18:39.579585Z"
    },
    "papermill": {
     "duration": 2.165121,
     "end_time": "2022-08-08T12:18:39.583755",
     "exception": false,
     "start_time": "2022-08-08T12:18:37.418634",
     "status": "completed"
    },
    "tags": []
   },
   "outputs": [],
   "source": [
    "import torch \n",
    "import torchvision\n",
    "import torch.nn as nn\n",
    "import numpy as np\n",
    "import torchvision.transforms as transforms"
   ]
  },
  {
   "cell_type": "code",
   "execution_count": null,
   "id": "f87caddb",
   "metadata": {
    "papermill": {
     "duration": 0.001625,
     "end_time": "2022-08-08T12:18:39.588313",
     "exception": false,
     "start_time": "2022-08-08T12:18:39.586688",
     "status": "completed"
    },
    "tags": []
   },
   "outputs": [],
   "source": []
  },
  {
   "cell_type": "code",
   "execution_count": null,
   "id": "4af2337a",
   "metadata": {
    "papermill": {
     "duration": 0.001553,
     "end_time": "2022-08-08T12:18:39.591639",
     "exception": false,
     "start_time": "2022-08-08T12:18:39.590086",
     "status": "completed"
    },
    "tags": []
   },
   "outputs": [],
   "source": []
  }
 ],
 "metadata": {
  "kernelspec": {
   "display_name": "Python 3",
   "language": "python",
   "name": "python3"
  },
  "language_info": {
   "codemirror_mode": {
    "name": "ipython",
    "version": 3
   },
   "file_extension": ".py",
   "mimetype": "text/x-python",
   "name": "python",
   "nbconvert_exporter": "python",
   "pygments_lexer": "ipython3",
   "version": "3.7.12"
  },
  "papermill": {
   "default_parameters": {},
   "duration": 13.166255,
   "end_time": "2022-08-08T12:18:40.517638",
   "environment_variables": {},
   "exception": null,
   "input_path": "__notebook__.ipynb",
   "output_path": "__notebook__.ipynb",
   "parameters": {},
   "start_time": "2022-08-08T12:18:27.351383",
   "version": "2.3.4"
  }
 },
 "nbformat": 4,
 "nbformat_minor": 5
}
