{
 "cells": [
  {
   "cell_type": "code",
   "execution_count": 1,
   "id": "3219374f",
   "metadata": {
    "_cell_guid": "b1076dfc-b9ad-4769-8c92-a6c4dae69d19",
    "_uuid": "8f2839f25d086af736a60e9eeb907d3b93b6e0e5",
    "execution": {
     "iopub.execute_input": "2022-08-08T12:20:49.373883Z",
     "iopub.status.busy": "2022-08-08T12:20:49.372640Z",
     "iopub.status.idle": "2022-08-08T12:20:49.381119Z",
     "shell.execute_reply": "2022-08-08T12:20:49.379658Z"
    },
    "papermill": {
     "duration": 0.015881,
     "end_time": "2022-08-08T12:20:49.383891",
     "exception": false,
     "start_time": "2022-08-08T12:20:49.368010",
     "status": "completed"
    },
    "tags": []
   },
   "outputs": [],
   "source": [
    "# # This Python 3 environment comes with many helpful analytics libraries installed\n",
    "# # It is defined by the kaggle/python Docker image: https://github.com/kaggle/docker-python\n",
    "# # For example, here's several helpful packages to load\n",
    "\n",
    "# import numpy as np # linear algebra\n",
    "# import pandas as pd # data processing, CSV file I/O (e.g. pd.read_csv)\n",
    "\n",
    "# # Input data files are available in the read-only \"../input/\" directory\n",
    "# # For example, running this (by clicking run or pressing Shift+Enter) will list all files under the input directory\n",
    "\n",
    "# import os\n",
    "# for dirname, _, filenames in os.walk('/kaggle/input'):\n",
    "#     for filename in filenames:\n",
    "#         print(os.path.join(dirname, filename))\n",
    "\n",
    "# # You can write up to 20GB to the current directory (/kaggle/working/) that gets preserved as output when you create a version using \"Save & Run All\" \n",
    "# # You can also write temporary files to /kaggle/temp/, but they won't be saved outside of the current session"
   ]
  },
  {
   "cell_type": "code",
   "execution_count": 2,
   "id": "a064bfc0",
   "metadata": {
    "execution": {
     "iopub.execute_input": "2022-08-08T12:20:49.390024Z",
     "iopub.status.busy": "2022-08-08T12:20:49.389610Z",
     "iopub.status.idle": "2022-08-08T12:20:51.370915Z",
     "shell.execute_reply": "2022-08-08T12:20:51.369810Z"
    },
    "papermill": {
     "duration": 1.98769,
     "end_time": "2022-08-08T12:20:51.373813",
     "exception": false,
     "start_time": "2022-08-08T12:20:49.386123",
     "status": "completed"
    },
    "tags": []
   },
   "outputs": [],
   "source": [
    "import torch \n",
    "import torchvision\n",
    "import torch.nn as nn\n",
    "import numpy as np\n",
    "import torchvision.transforms as transforms"
   ]
  },
  {
   "cell_type": "code",
   "execution_count": 3,
   "id": "3d315002",
   "metadata": {
    "execution": {
     "iopub.execute_input": "2022-08-08T12:20:51.379957Z",
     "iopub.status.busy": "2022-08-08T12:20:51.378837Z",
     "iopub.status.idle": "2022-08-08T12:20:51.383990Z",
     "shell.execute_reply": "2022-08-08T12:20:51.383006Z"
    },
    "papermill": {
     "duration": 0.010848,
     "end_time": "2022-08-08T12:20:51.386722",
     "exception": false,
     "start_time": "2022-08-08T12:20:51.375874",
     "status": "completed"
    },
    "tags": []
   },
   "outputs": [],
   "source": [
    "import pandas as pd"
   ]
  },
  {
   "cell_type": "code",
   "execution_count": null,
   "id": "2292dcf2",
   "metadata": {
    "papermill": {
     "duration": 0.001674,
     "end_time": "2022-08-08T12:20:51.390423",
     "exception": false,
     "start_time": "2022-08-08T12:20:51.388749",
     "status": "completed"
    },
    "tags": []
   },
   "outputs": [],
   "source": []
  }
 ],
 "metadata": {
  "kernelspec": {
   "display_name": "Python 3",
   "language": "python",
   "name": "python3"
  },
  "language_info": {
   "codemirror_mode": {
    "name": "ipython",
    "version": 3
   },
   "file_extension": ".py",
   "mimetype": "text/x-python",
   "name": "python",
   "nbconvert_exporter": "python",
   "pygments_lexer": "ipython3",
   "version": "3.7.12"
  },
  "papermill": {
   "default_parameters": {},
   "duration": 12.484357,
   "end_time": "2022-08-08T12:20:52.214199",
   "environment_variables": {},
   "exception": null,
   "input_path": "__notebook__.ipynb",
   "output_path": "__notebook__.ipynb",
   "parameters": {},
   "start_time": "2022-08-08T12:20:39.729842",
   "version": "2.3.4"
  }
 },
 "nbformat": 4,
 "nbformat_minor": 5
}
